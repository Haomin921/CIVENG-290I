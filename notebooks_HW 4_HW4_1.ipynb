{
  "metadata": {
    "language_info": {
      "codemirror_mode": {
        "name": "python",
        "version": 3
      },
      "file_extension": ".py",
      "mimetype": "text/x-python",
      "name": "python",
      "nbconvert_exporter": "python",
      "pygments_lexer": "ipython3",
      "version": "3.8"
    },
    "kernelspec": {
      "name": "python",
      "display_name": "Python (Pyodide)",
      "language": "python"
    }
  },
  "nbformat_minor": 4,
  "nbformat": 4,
  "cells": [
    {
      "cell_type": "code",
      "source": "import heapq\n\ndef my_dijkstra(adj_matrix, origin):\n    num_nodes = len(adj_matrix)\n    \n    # Initialize dist and prev arrays\n    dist = [float('inf')] * num_nodes\n    prev = [None] * num_nodes\n    \n    # Initialize the distance to the origin node as 0\n    dist[origin] = 0\n    \n    # Create a priority queue and insert all nodes with their distances\n    pq = [(0, origin)]  # Priority queue as a list of tuples (distance, node)\n    visited = set()  # Set to keep track of visited nodes\n    \n    while pq:\n        # Extract the node with the minimum distance\n        u_dist, u = heapq.heappop(pq)\n        \n        if u in visited:\n            continue\n        \n        visited.add(u)\n        \n        # Explore neighbors of u\n        for v, weight in enumerate(adj_matrix[u]):\n            if weight > 0 and v not in visited:  # Check if there is an edge and v is unvisited\n                alt = u_dist + weight  # Calculate the potential new distance\n                if alt < dist[v]:  # If the new distance is shorter, update it\n                    dist[v] = alt\n                    prev[v] = u\n                    heapq.heappush(pq, (alt, v))  # Update the priority queue\n    \n    # Set dist to infinity for unreachable nodes\n    dist = [d if d != float('inf') else float('inf') for d in dist]\n    \n    # Adjust prev to be 0-indexed\n    prev = [p if p is None else p + 1 for p in prev]\n    prev[origin] = origin\n    \n    return dist, prev\n\n# Example usage:\nadj_matrix = [\n    [0, 8, 0, 17, 0, 0, 0],\n    [7, 0, 17, 0, 0, 0, 0],\n    [0, 16, 0, 18, 11, 0, 0],\n    [13, 13, 0, 0, 0, 20, 9],\n    [0, 0, 2, 0, 0, 18, 0],\n    [0, 0, 13, 0, 8, 0, 20],\n    [0, 0, 0, 5, 0, 14, 0]\n]\norigin = 0\ndist, prev = my_dijkstra(adj_matrix, origin)\nprint(\"Distances:\", dist)\nprint(\"Previous nodes:\", prev)\n",
      "metadata": {
        "trusted": true
      },
      "execution_count": 33,
      "outputs": [
        {
          "name": "stdout",
          "text": "Distances: [0, 8, 25, 17, 36, 37, 26]\nPrevious nodes: [0, 1, 2, 1, 3, 4, 4]\n",
          "output_type": "stream"
        }
      ]
    }
  ]
}